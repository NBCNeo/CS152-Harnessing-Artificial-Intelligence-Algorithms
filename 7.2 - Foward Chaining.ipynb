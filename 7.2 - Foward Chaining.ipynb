{
 "cells": [
  {
   "cell_type": "code",
   "execution_count": 2,
   "metadata": {},
   "outputs": [],
   "source": [
    "import queue\n",
    "\n",
    "class Symbol:\n",
    "    '''Represents a logical symbol and its truth value.'''\n",
    "    \n",
    "    def __init__(self, symbol, value = True):\n",
    "        self.symbol = symbol\n",
    "        self.value = value\n",
    "    \n",
    "    def __repr__(self):\n",
    "        return(self.symbol if self.value else \"-\" + self.symbol)\n",
    "    \n",
    "    def __hash__(self):\n",
    "        return(hash(self.symbol))\n",
    "    \n",
    "    def __eq__(self, other):\n",
    "        return(self.symbol == other.symbol)\n",
    "    \n",
    "    def __neg__(self):\n",
    "        return(Symbol(self.symbol, value = not self.value))\n",
    "\n",
    "class DefiniteClause:\n",
    "    '''Represents a definite clause.\n",
    "    \n",
    "        Inputs: \n",
    "            literals (iterable of Symbols): the components of the clause. \n",
    "            All symbols but one should be negated.'''\n",
    "\n",
    "    def __init__(self, literals):\n",
    "        self.premise = [lit for lit in literals if not lit.value]\n",
    "        self.head = next(lit for lit in literals if lit.value)\n",
    "        self.symbols = [lit if lit.value else -lit for lit in literals]\n",
    "        \n",
    "    def __hash__(self): \n",
    "        return(hash(tuple(lit for lit in self.premise)))\n",
    "    \n",
    "    def __len__(self):\n",
    "        return(len(self.symbols))\n",
    "        \n",
    "    def __repr__(self):\n",
    "        if len(self) > 1:\n",
    "            return(r' ^ '.join(str(lit)[1:] for lit in self.premise) + ' -> ' + str(self.head))\n",
    "        else:\n",
    "            return(str(self.head))\n",
    "        \n",
    "def forward_chaining(KB, q):\n",
    "    '''The forward chaining algorithm to assert entailment.\n",
    "    \n",
    "        Inputs:\n",
    "            KB (iterable of DefinitiveClauses): The compoments of the KB.\n",
    "            q (Symbol): The symbol whose truth we're interested in asserting.''' \n",
    "    \n",
    "    # The number of symbols in each clause’s premise\n",
    "    count = {cl : len(cl.premise) for cl in KB}\n",
    "    \n",
    "    # Initially false for all symbols\n",
    "    inferred = {sb : False for cl in KB for sb in cl.symbols}\n",
    "    \n",
    "    # a queue of symbols, initially symbols known to be true in KB\n",
    "    agenda = queue.Queue()\n",
    "    for cl in KB:\n",
    "        if len(cl) == 1:\n",
    "            agenda.put(cl.head)\n",
    "    \n",
    "    while not agenda.empty():  # while not empty\n",
    "        \n",
    "        # Get the next symbol inthe agenda\n",
    "        p = agenda.get()\n",
    "        \n",
    "        # If it's the query, we proof is successful\n",
    "        if p == q: return(True)\n",
    "        \n",
    "        # If the symbol has not been inferred before\n",
    "        if not inferred[p]:\n",
    "            inferred[p] = True\n",
    "            \n",
    "            # For each clause in the KB which contains the symbol in its premise\n",
    "            for cl in KB:\n",
    "                if p in cl.premise:\n",
    "                    \n",
    "                    # Decrease the count of remaining unknown literals in the premimse\n",
    "                    count[cl] -= 1\n",
    "                    \n",
    "                    # If all literals in the premise have been found to be true\n",
    "                    if count[cl] == 0:\n",
    "                        \n",
    "                        # Add the head of the clause to the agenda\n",
    "                        agenda.put(cl.head)\n",
    "    return(False)"
   ]
  },
  {
   "cell_type": "code",
   "execution_count": 8,
   "metadata": {},
   "outputs": [
    {
     "data": {
      "text/plain": [
       "True"
      ]
     },
     "execution_count": 8,
     "metadata": {},
     "output_type": "execute_result"
    }
   ],
   "source": [
    "A = Symbol(\"A\")\n",
    "B = Symbol(\"B\")\n",
    "C = Symbol(\"C\")\n",
    "R1 = DefiniteClause([-A, -B, C])\n",
    "R2 = DefiniteClause([A])\n",
    "R3 = DefiniteClause([B])\n",
    "forward_chaining([R1, R2, R3], C)"
   ]
  }
 ],
 "metadata": {
  "kernelspec": {
   "display_name": "Python 3",
   "language": "python",
   "name": "python3"
  },
  "language_info": {
   "codemirror_mode": {
    "name": "ipython",
    "version": 3
   },
   "file_extension": ".py",
   "mimetype": "text/x-python",
   "name": "python",
   "nbconvert_exporter": "python",
   "pygments_lexer": "ipython3",
   "version": "3.6.4"
  },
  "toc": {
   "base_numbering": 1,
   "nav_menu": {},
   "number_sections": true,
   "sideBar": true,
   "skip_h1_title": false,
   "title_cell": "Table of Contents",
   "title_sidebar": "Contents",
   "toc_cell": false,
   "toc_position": {},
   "toc_section_display": true,
   "toc_window_display": false
  },
  "varInspector": {
   "cols": {
    "lenName": 16,
    "lenType": 16,
    "lenVar": 40
   },
   "kernels_config": {
    "python": {
     "delete_cmd_postfix": "",
     "delete_cmd_prefix": "del ",
     "library": "var_list.py",
     "varRefreshCmd": "print(var_dic_list())"
    },
    "r": {
     "delete_cmd_postfix": ") ",
     "delete_cmd_prefix": "rm(",
     "library": "var_list.r",
     "varRefreshCmd": "cat(var_dic_list()) "
    }
   },
   "types_to_exclude": [
    "module",
    "function",
    "builtin_function_or_method",
    "instance",
    "_Feature"
   ],
   "window_display": false
  }
 },
 "nbformat": 4,
 "nbformat_minor": 2
}
