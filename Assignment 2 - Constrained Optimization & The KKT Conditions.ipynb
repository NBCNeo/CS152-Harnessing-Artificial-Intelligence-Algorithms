{
 "cells": [
  {
   "cell_type": "markdown",
   "metadata": {},
   "source": [
    "## CS164 ASSIGNMENT 2: CONSTRAINED OPTIMIZATION & THE KKT CONDITIONS\n",
    "\n",
    "#### Vinícius Miranda\n",
    "\n",
    "The assignment instructions are available [here](https://course-resources.minerva.kgi.edu/uploaded_files/mke/00087691-7466/assignment2.pdf).\n",
    "\n",
    "We are concerned with the linear program\n",
    "\n",
    "$$\n",
    "\\begin{equation*}\n",
    "\\begin{aligned}\n",
    "& \\underset{x}{\\text{min}}\n",
    "& & c^Tx \\\\\n",
    "& \\text{subject to:} \n",
    "& & Ax \\leq b\n",
    "\\end{aligned}\n",
    "\\end{equation*}\n",
    "$$\n",
    "\n",
    "where $A \\in \\mathbb{R}^{m\\times n}, b \\in \\mathbb{R}^{m\\times 1}$ and $c\\in \\mathbb{R}^{n\\times 1}$. Its KKT conditions are\n",
    "\n",
    "$$\n",
    "\\begin{align}\n",
    "\\text{Primal Feasibility : } &A\\textbf{x}^* \\preceq b \\\\\n",
    "\\text{Dual Feasibility : } &\\begin{cases} c + A^T\\lambda = \\textbf{0} \\\\ \n",
    "                            \\lambda \\succeq \\textbf{0} \\end{cases}  \\\\\n",
    "\\text{Complementary Slackness : } &\\lambda^T(A\\textbf{x}^*-b) = \\textbf{0}\n",
    "\\end{align}\n",
    "$$\n",
    "\n",
    "where dual feasilibity is also known as the stationary condition and $\\lambda \\in \\mathbb{R}^{m\\times 1}$. Note that $\\preceq$ and $\\succeq$ are component-wise (vectorized) versions of $\\leq$ and $\\geq$. There are three possibilities for the solution of this LP (Calafiore XXXX). They are\n",
    "1. If the intersection among the half-spaces defined by each of the $m$ constraints is empty, then the feasible set is the empty set and there is no solution.\n",
    "2. If the feasible set is nonempty and unbounded, then the problem may or may not attain a finite solution. The geometric interpretation is that if one direction of descent of the objective function is unbounded in the feasible set, the minimum is never found as the function decreases infinitely. \n",
    "3. If the feasible set is nonempty and bounded, the feasible is a polyhedron (or polytope) and the solution is attained at one of its vertices. The proof below follows from Calafiore (XXXX). \n",
    "\n",
    "Let $\\mathcal{X} = \\{x\\in\\mathbb{R}^n : Ax\\leq b\\}$. A point $x^*$ is a solution if and only if $c^Tx\\geq c^Tx^*, \\forall x \\in \\mathcal{X}$. In other words, if all other points in the feasible set have higher objectives. Similarly, we may say that if $x^*$ is optimal, then $c^T(x-x^*)\\geq0, \\forall x \\in \\mathcal{X}$, which is to say that all directions in the feasible set are non-descent directions. Notice that for $f(x)=c^Tx, \\nabla f=c$. If $x^*$ were not a boundary point of the feasible set,  one would need only step in the direction $-c$ to reduce the objective. Furthermore, when $\\exists x \\in \\mathcal{X}$ such that $x \\neq x^*$ and $c^T(x-x^*)=0$, there is a collection of points that extremize the objective. These points are all in a face (or facets) of the polyhedron (or polytope), which occurs when the level curves (or sets) of the objective function are parallel to the face.\n",
    "\n"
   ]
  },
  {
   "cell_type": "markdown",
   "metadata": {},
   "source": [
    "## $l_1$ and $l_\\infty$ Regression\n",
    "\n"
   ]
  },
  {
   "cell_type": "markdown",
   "metadata": {},
   "source": [
    "The $l_1$ and $l_\\infty$ norms can be used as cost functions to find the line-of-best-fit for a regression problem. We can thus define the problems\n",
    "\n",
    "$$\\min_{\\Theta}||Y-X\\Theta||_1$$\n",
    "\n",
    "and\n",
    "\n",
    "$$\\min_{\\Theta}||Y-X\\Theta||_{\\infty}$$\n",
    "\n",
    "where $X \\in \\mathbb{R}^{N\\times2}$ for a dataset of $N$ points in $\\mathbb{R}^2$, $Y \\in \\mathbb{R}^{N\\times1}$, and $\\Theta \\in \\mathbb{R}^{2\\times1}$.\n",
    "\n",
    "### $l_1$ norm\n",
    "\n",
    "The $l_1$ norm computes the sum of the absolute values of each component of a vector. In other words, \n",
    "\n",
    "$$\\min_{\\Theta}||Y-X\\Theta||_1=\\min_{\\Theta}\\sum_{i=1}^N|Y_i-X_i\\Theta|.$$\n",
    "\n",
    "We can then introduce slack variables $u_i$ which will provide bounds to the absolute values. By minimizing over the slack variables, we will always find the tighest nonnegative bound and hence the linear program remains the same. The LP then becomes\n",
    "\n",
    "$$\n",
    "\\begin{equation*}\n",
    "\\begin{aligned}\n",
    "& \\underset{\\Theta, u}{\\text{min}}\n",
    "& & \\sum_{i=1}^N u_i \\\\\n",
    "& \\text{subject to:} \n",
    "& & |Y_i-X_i\\Theta| \\leq u_i, i=1,\\dots,N \n",
    "\\end{aligned}\n",
    "\\end{equation*}\n",
    "$$\n",
    "\n",
    "which we can express in standard form as\n",
    "\n",
    "$$\n",
    "\\begin{equation*}\n",
    "\\begin{aligned}\n",
    "& \\underset{\\Theta, u}{\\text{min}}\n",
    "& & \\textbf{1}^T\\textbf{u} \\\\\n",
    "& \\text{subject to:} \n",
    "& & Y_i-X_i\\Theta -u_i \\leq 0, i=1,\\dots,N \\\\\n",
    "& & & X_i\\Theta-Y_i- u_i \\leq 0, i=1,\\dots,N\n",
    "\\end{aligned}\n",
    "\\end{equation*}\n",
    "$$\n",
    "\n",
    "We thus introduce $N$ slack variables and $2\\times N$ constraints.\n",
    "\n",
    "### $l_\\infty$ norm\n",
    "\n",
    "We proceed similarly with the $l_\\infty$ norm. However, we are now interested only in the largest absolute value of all the components of the vector over which we minimize. Therefore, only one slack variable is necessary to provide a bound on this value. As before, as we minimize the slack variable, we find the tighest bound possible, equivalent to the value of the infinity norm, and thus the LPs are equivalent. Therefore,\n",
    "\n",
    "$$\n",
    "\\begin{equation*}\n",
    "\\begin{aligned}\n",
    "& \\underset{\\Theta, t}{\\text{min}}\n",
    "& & t\\\\\n",
    "& \\text{subject to:} \n",
    "& & ||Y-X\\Theta||_{\\infty} \\leq t \n",
    "\\end{aligned}\n",
    "\\end{equation*}\n",
    "$$\n",
    "\n",
    "Since $t$ bounds the largest component of the vector, we also bounds all the other components. In other words,\n",
    "\n",
    "$$||Y-X\\Theta||_{\\infty} \\leq t \\iff \\max_{i=1,\\dots,N} |Y_i-X_i\\Theta|\\leq t \\iff |Y_i-X_i\\Theta|\\leq t, i = 1,\\dots, N$$\n",
    "\n",
    "In standard form, the LP then becomes\n",
    "\n",
    "$$\n",
    "\\begin{equation*}\n",
    "\\begin{aligned}\n",
    "& \\underset{\\Theta, t}{\\text{min}}\n",
    "& & t\\\\\n",
    "& \\text{subject to:} \n",
    "& & Y_i-X_i\\Theta -t \\leq 0, i=1,\\dots,N \\\\\n",
    "& & & X_i\\Theta-Y_i- t \\leq 0, i=1,\\dots,N\n",
    "\\end{aligned}\n",
    "\\end{equation*}\n",
    "$$\n",
    "\n",
    "Thus, we introduce one slack variable $t$ and $2\\times N$ constraints. This section is also heavily based on Calafiore (XXXX).\n"
   ]
  },
  {
   "cell_type": "markdown",
   "metadata": {},
   "source": [
    "Some code is given below to generate a synthetic dataset.  Using CVX, solve two linear programs for computing the regression line for $l_1$ and $l_\\infty$ regression. Plot the lines over the data to evaluate the fit.\n",
    "\n"
   ]
  },
  {
   "cell_type": "code",
   "execution_count": 5,
   "metadata": {},
   "outputs": [
    {
     "data": {
      "image/png": "[encoded data removed]",
      "text/plain": [
       "<matplotlib.figure.Figure at 0x17a7501d908>"
      ]
     },
     "metadata": {},
     "output_type": "display_data"
    }
   ],
   "source": [
    "# l_1 and l_infinity regression using cvxpy\n",
    "import numpy as np\n",
    "import cvxpy as cvx\n",
    "import matplotlib.pyplot as plt\n",
    "\n",
    "# generate a synthetic dataset\n",
    "\n",
    "# actual parameter values\n",
    "theta1_act = 2\n",
    "theta2_act = 5\n",
    "\n",
    "# Number of points in dataset\n",
    "N = 200\n",
    "\n",
    "# Noise magnitude\n",
    "mag = 30\n",
    "\n",
    "# datapoints\n",
    "x = np.arange(0,N)\n",
    "y = theta1_act * x + theta2_act *np.ones([1,N]) + np.random.normal(0,mag,N)\n",
    "\n",
    "plt.figure()\n",
    "# Scatter plot of data\n",
    "plt.scatter(x,y)\n",
    "plt.show()\n"
   ]
  },
  {
   "cell_type": "markdown",
   "metadata": {},
   "source": [
    "### $l_1$ norm"
   ]
  },
  {
   "cell_type": "code",
   "execution_count": 2,
   "metadata": {},
   "outputs": [
    {
     "name": "stdout",
     "output_type": "stream",
     "text": [
      "status: optimal\n",
      "optimal value: 5034.734558966026\n",
      "optimal Θ: [1.97202379 9.75376663]\n"
     ]
    }
   ],
   "source": [
    "# Arranging the variables and checking proper dimensionality\n",
    "X = np.array([x, np.ones_like(x)]).T\n",
    "Y = y.T\n",
    "assert X.shape == (N, 2)\n",
    "assert Y.shape == (N, 1)\n",
    "\n",
    "# HINT: you will first want to declare a variable for the parameters of the line\n",
    "theta_1 = cvx.Variable(2)\n",
    "\n",
    "# The slack variables\n",
    "u = cvx.Variable(N)\n",
    "\n",
    "# The constraints.\n",
    "constraints = [Y.flatten() - X@theta_1 - u <= np.zeros(N),\n",
    "               X@theta_1 - Y.flatten() - u <= np.zeros(N)]\n",
    "\n",
    "# Form objective.\n",
    "obj = cvx.Minimize(np.ones(N).T@u)\n",
    "\n",
    "# Form and solve problem.\n",
    "prob = cvx.Problem(obj, constraints)\n",
    "prob.solve(\"ECOS\")  # Returns the optimal value.\n",
    "print(\"status:\", prob.status)\n",
    "print(\"optimal value:\", prob.value)\n",
    "print(\"optimal Θ:\", theta_1.value)"
   ]
  },
  {
   "cell_type": "markdown",
   "metadata": {},
   "source": [
    "### $l_\\infty$ norm"
   ]
  },
  {
   "cell_type": "code",
   "execution_count": 3,
   "metadata": {},
   "outputs": [
    {
     "name": "stdout",
     "output_type": "stream",
     "text": [
      "status: optimal\n",
      "optimal value: 84.00028631278876\n",
      "optimal Θ: [ 1.92832652 19.26261364]\n"
     ]
    }
   ],
   "source": [
    "# HINT: you will first want to declare a variable for the parameters of the line\n",
    "theta_infty = cvx.Variable(2)\n",
    "\n",
    "# The slack variables\n",
    "t = cvx.Variable()\n",
    "\n",
    "# The constraints.\n",
    "constraints = [Yi - Xi@theta_infty - t <= 0 for Yi, Xi in zip(y.flatten(), X)] +\\\n",
    "              [Xi@theta_infty - Yi - t <= 0 for Yi, Xi in zip(y.flatten(), X)]\n",
    "\n",
    "                #[Y.flatten() - X@theta_infty - t <= np.zeros(N),\n",
    "               #X@theta_infty - Y.flatten() - t <= np.zeros(N)]\n",
    "\n",
    "# Form objective.\n",
    "obj = cvx.Minimize(t)\n",
    "\n",
    "# Form and solve problem.\n",
    "prob = cvx.Problem(obj, constraints)\n",
    "prob.solve(\"ECOS\")  # Returns the optimal value.\n",
    "print(\"status:\", prob.status)\n",
    "print(\"optimal value:\", prob.value)\n",
    "print(\"optimal Θ:\", theta_infty.value)"
   ]
  },
  {
   "cell_type": "markdown",
   "metadata": {},
   "source": [
    "#### Visualizing the solutions..."
   ]
  },
  {
   "cell_type": "code",
   "execution_count": 4,
   "metadata": {},
   "outputs": [
    {
     "data": {
      "image/png": "[encoded data removed]",
      "text/plain": [
       "<matplotlib.figure.Figure at 0x17a75021278>"
      ]
     },
     "metadata": {},
     "output_type": "display_data"
    }
   ],
   "source": [
    "plt.figure(figsize=[12, 6])\n",
    "plt.scatter(x,y, alpha=0.5)\n",
    "plt.plot(x, theta_1.value[0] * x + theta_1.value[1] *np.ones(N), \n",
    "         color='red', linewidth=3, alpha=0.7, label=r\"$l_1$ norm\")\n",
    "Theta2 = np.linalg.inv(X.T@X)@X.T@Y\n",
    "plt.plot(x, Theta2[0] * x + Theta2[1] *np.ones(N), \n",
    "         color='green', linewidth=3, alpha=0.5, label=r\"$l_2$ norm\")\n",
    "plt.plot(x, theta_infty.value[0] * x + theta_infty.value[1] *np.ones(N), \n",
    "         color='orange', linewidth=3, alpha=0.7, label=r\"$l_\\infty$ norm\")\n",
    "\n",
    "plt.title(\"Line of best fit for different lp-norm cost functions\")\n",
    "plt.legend()\n",
    "plt.show()"
   ]
  }
 ],
 "metadata": {
  "kernelspec": {
   "display_name": "Python 3",
   "language": "python",
   "name": "python3"
  },
  "language_info": {
   "codemirror_mode": {
    "name": "ipython",
    "version": 3
   },
   "file_extension": ".py",
   "mimetype": "text/x-python",
   "name": "python",
   "nbconvert_exporter": "python",
   "pygments_lexer": "ipython3",
   "version": "3.6.4"
  },
  "toc": {
   "base_numbering": 1,
   "nav_menu": {},
   "number_sections": true,
   "sideBar": true,
   "skip_h1_title": false,
   "title_cell": "Table of Contents",
   "title_sidebar": "Contents",
   "toc_cell": false,
   "toc_position": {},
   "toc_section_display": true,
   "toc_window_display": false
  },
  "varInspector": {
   "cols": {
    "lenName": 16,
    "lenType": 16,
    "lenVar": 40
   },
   "kernels_config": {
    "python": {
     "delete_cmd_postfix": "",
     "delete_cmd_prefix": "del ",
     "library": "var_list.py",
     "varRefreshCmd": "print(var_dic_list())"
    },
    "r": {
     "delete_cmd_postfix": ") ",
     "delete_cmd_prefix": "rm(",
     "library": "var_list.r",
     "varRefreshCmd": "cat(var_dic_list()) "
    }
   },
   "types_to_exclude": [
    "module",
    "function",
    "builtin_function_or_method",
    "instance",
    "_Feature"
   ],
   "window_display": false
  }
 },
 "nbformat": 4,
 "nbformat_minor": 1
}
