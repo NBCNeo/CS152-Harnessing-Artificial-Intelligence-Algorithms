{
 "cells": [
  {
   "cell_type": "markdown",
   "metadata": {},
   "source": [
    "# Breadth-First Search in Python"
   ]
  },
  {
   "cell_type": "markdown",
   "metadata": {},
   "source": [
    "#### You are required to solve the following search problem in Python using a breadth-first approach, by adding in code at the places marked \"insert code here\"\n",
    "\n",
    "* Each state is represented by an integer\n",
    "\n",
    "* For a state k, the two successor states are 2k and 2k+1 (in this order)\n",
    "\n",
    "* Starting at initial state 1, the goal is to reach state 1024.\n",
    "\n",
    "This code makes use of the class <code>deque</code> in the <code>collections package</code>.  You may need to look up the appropriate member functions to add and remove frontier elements."
   ]
  },
  {
   "cell_type": "code",
   "execution_count": 22,
   "metadata": {},
   "outputs": [],
   "source": [
    "from collections import deque\n",
    "class bfs():\n",
    "    \"Implementation of bread-first search.\"\n",
    "\n",
    "    def __init__(self, init_state):\n",
    "        \"Receives an initial state and initializes the frontier.\"\n",
    "        self.steps = 0\n",
    "        self.frontier = frontier = deque([init_state])\n",
    "        \n",
    "    def search(self, goal_state, children_fun):\n",
    "        \"Search function that receives the goal state and the children-generating function.\"\n",
    "        self.goal = goal_state\n",
    "        \n",
    "        # While there are unexplored nodes\n",
    "        while self.frontier:\n",
    "            \n",
    "            self.steps += 1\n",
    "            \n",
    "            # Pop the shallowest node from the queue\n",
    "            self.node = self.frontier.pop()\n",
    "            \n",
    "            # Generate the children of the node\n",
    "            for child in children_fun(self.node):\n",
    "                \n",
    "                # Check the goal state when the child is generated\n",
    "                if child == self.goal:\n",
    "\n",
    "                    print(\"Breadth-first search terminated after %d steps\\n\" % self.steps)\n",
    "                    print(\"Size of frontier at termination is %d\" % len(self.frontier))\n",
    "                    return\n",
    "                \n",
    "                # If the child is not the goal, append as the last element of the queue\n",
    "                self.frontier.appendleft(child)"
   ]
  },
  {
   "cell_type": "code",
   "execution_count": 23,
   "metadata": {},
   "outputs": [
    {
     "name": "stdout",
     "output_type": "stream",
     "text": [
      "Breadth-first search terminated after 512 steps\n",
      "\n",
      "Size of frontier at termination is 511\n"
     ]
    }
   ],
   "source": [
    "searcher = bfs(1)\n",
    "searcher.search(1024, lambda x: (2*x, 2*x + 1))"
   ]
  },
  {
   "cell_type": "code",
   "execution_count": null,
   "metadata": {},
   "outputs": [],
   "source": []
  }
 ],
 "metadata": {
  "kernelspec": {
   "display_name": "Python 3",
   "language": "python",
   "name": "python3"
  },
  "language_info": {
   "codemirror_mode": {
    "name": "ipython",
    "version": 3
   },
   "file_extension": ".py",
   "mimetype": "text/x-python",
   "name": "python",
   "nbconvert_exporter": "python",
   "pygments_lexer": "ipython3",
   "version": "3.6.4"
  },
  "toc": {
   "base_numbering": 1,
   "nav_menu": {},
   "number_sections": true,
   "sideBar": true,
   "skip_h1_title": false,
   "title_cell": "Table of Contents",
   "title_sidebar": "Contents",
   "toc_cell": false,
   "toc_position": {},
   "toc_section_display": true,
   "toc_window_display": false
  },
  "varInspector": {
   "cols": {
    "lenName": 16,
    "lenType": 16,
    "lenVar": 40
   },
   "kernels_config": {
    "python": {
     "delete_cmd_postfix": "",
     "delete_cmd_prefix": "del ",
     "library": "var_list.py",
     "varRefreshCmd": "print(var_dic_list())"
    },
    "r": {
     "delete_cmd_postfix": ") ",
     "delete_cmd_prefix": "rm(",
     "library": "var_list.r",
     "varRefreshCmd": "cat(var_dic_list()) "
    }
   },
   "types_to_exclude": [
    "module",
    "function",
    "builtin_function_or_method",
    "instance",
    "_Feature"
   ],
   "window_display": false
  }
 },
 "nbformat": 4,
 "nbformat_minor": 2
}
